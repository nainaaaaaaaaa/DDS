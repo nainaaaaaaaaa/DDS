{
  "nbformat": 4,
  "nbformat_minor": 0,
  "metadata": {
    "colab": {
      "provenance": [],
      "include_colab_link": true
    },
    "kernelspec": {
      "name": "python3",
      "display_name": "Python 3"
    },
    "language_info": {
      "name": "python"
    }
  },
  "cells": [
    {
      "cell_type": "markdown",
      "metadata": {
        "id": "view-in-github",
        "colab_type": "text"
      },
      "source": [
        "<a href=\"https://colab.research.google.com/github/nainaaaaaaaaa/DDS/blob/main/lab1.ipynb\" target=\"_parent\"><img src=\"https://colab.research.google.com/assets/colab-badge.svg\" alt=\"Open In Colab\"/></a>"
      ]
    },
    {
      "cell_type": "markdown",
      "source": [
        "# 🧪 Lab 1: Stack Using Array (303105202)\n",
        "\n",
        "## 🎯 Objective:\n",
        "Implement Stack and its operations like:\n",
        "- `push`\n",
        "- `pop`\n",
        "- `peek`\n",
        "- `traverse`\n",
        "- `search`\n",
        "\n",
        "✅ Using a **linear array** as per BTech syllabus  \n",
        "🛠️ Languages: Python (runs here), C (via GCC)"
      ],
      "metadata": {
        "id": "jdJX7GNhyi3g"
      }
    },
    {
      "cell_type": "code",
      "execution_count": 6,
      "metadata": {
        "id": "wrONv57JyhIE",
        "colab": {
          "base_uri": "https://localhost:8080/"
        },
        "outputId": "12e0e98d-0c20-415a-e5af-7700cc89301c"
      },
      "outputs": [
        {
          "output_type": "stream",
          "name": "stdout",
          "text": [
            "Stack (Top to Bottom): [30, 20, 10]\n",
            "Top Element: 30\n",
            "Found 20 at position 1 from top\n",
            "Popped: 30\n",
            "Stack (Top to Bottom): [20, 10]\n"
          ]
        }
      ],
      "source": [
        "\n",
        "# ✅ Python Implementation of Stack using List (Array)\n",
        "\n",
        "stack = []\n",
        "\n",
        "def push(value):\n",
        "    stack.append(value)\n",
        "\n",
        "def pop():\n",
        "    if not stack:\n",
        "        print(\"Stack Underflow\")\n",
        "    else:\n",
        "        print(\"Popped:\", stack.pop())\n",
        "\n",
        "def peek():\n",
        "    if not stack:\n",
        "        print(\"Stack is Empty\")\n",
        "    else:\n",
        "        print(\"Top Element:\", stack[-1])\n",
        "\n",
        "def traverse():\n",
        "    if not stack:\n",
        "        print(\"Stack is Empty\")\n",
        "    else:\n",
        "        print(\"Stack (Top to Bottom):\", stack[::-1])\n",
        "\n",
        "def search(value):\n",
        "    if value in stack:\n",
        "        pos = len(stack) - stack[::-1].index(value) - 1\n",
        "        print(f\"Found {value} at position {pos} from top\")\n",
        "    else:\n",
        "        print(f\"{value} not found in stack\")\n",
        "\n",
        "# 🔍 Test\n",
        "push(10)\n",
        "push(20)\n",
        "push(30)\n",
        "traverse()\n",
        "peek()\n",
        "search(20)\n",
        "pop()\n",
        "traverse()"
      ]
    },
    {
      "cell_type": "markdown",
      "source": [
        "---\n",
        "\n",
        "## 💻 Now Let’s Run the Same Logic in C\n",
        "\n",
        "Google Colab allows us to:\n",
        "1. Write C code to a file\n",
        "2. Compile it with `gcc`\n",
        "3. Execute it and see the output directly\n",
        "\n",
        "Let’s go!"
      ],
      "metadata": {
        "id": "bGWnfRVczHgu"
      }
    },
    {
      "cell_type": "code",
      "source": [
        "\n",
        "# Write the C program into a file\n",
        "c_code = \"\"\"\n",
        "#include <stdio.h>\n",
        "#define SIZE 100\n",
        "\n",
        "int stack[SIZE];\n",
        "int top = -1;\n",
        "\n",
        "void push(int value) {\n",
        "    if (top == SIZE - 1)\n",
        "        printf(\"Stack Overflow\\\\n\");\n",
        "    else\n",
        "        stack[++top] = value;\n",
        "}\n",
        "\n",
        "void pop() {\n",
        "    if (top == -1)\n",
        "        printf(\"Stack Underflow\\\\n\");\n",
        "    else\n",
        "        printf(\"Popped: %d\\\\n\", stack[top--]);\n",
        "}\n",
        "\n",
        "void peek() {\n",
        "    if (top == -1)\n",
        "        printf(\"Stack is Empty\\\\n\");\n",
        "    else\n",
        "        printf(\"Top Element: %d\\\\n\", stack[top]);\n",
        "}\n",
        "\n",
        "void traverse() {\n",
        "    if (top == -1)\n",
        "        printf(\"Stack is Empty\\\\n\");\n",
        "    else {\n",
        "        printf(\"Stack: \");\n",
        "        for (int i = top; i >= 0; i--)\n",
        "            printf(\"%d \", stack[i]);\n",
        "        printf(\"\\\\n\");\n",
        "    }\n",
        "}\n",
        "\n",
        "void search(int value) {\n",
        "    for (int i = top; i >= 0; i--) {\n",
        "        if (stack[i] == value) {\n",
        "            printf(\"Found %d at position %d from top\\\\n\", value, top - i);\n",
        "            return;\n",
        "        }\n",
        "    }\n",
        "    printf(\"%d not found in stack\\\\n\", value);\n",
        "}\n",
        "\n",
        "int main() {\n",
        "    push(10);\n",
        "    push(20);\n",
        "    push(30);\n",
        "    traverse();\n",
        "    peek();\n",
        "    search(20);\n",
        "    pop();\n",
        "    traverse();\n",
        "    return 0;\n",
        "}\n",
        "\"\"\"\n",
        "\n",
        "with open(\"stack_lab1.c\", \"w\") as f:\n",
        "    f.write(c_code)"
      ],
      "metadata": {
        "id": "8U5XW1_MzQ7h"
      },
      "execution_count": 7,
      "outputs": []
    },
    {
      "cell_type": "markdown",
      "source": [],
      "metadata": {
        "id": "6Yul9wn250pj"
      }
    },
    {
      "cell_type": "code",
      "source": [
        "c_code = \"\"\"\n",
        "\n",
        "#include <stdio.h>\n",
        "\n",
        "int main() {\n",
        "    int arr[] = {10, 20, 30, 40, 50};\n",
        "    int n = 5;\n",
        "    int x = 40;\n",
        "    int found = 0;\n",
        "\n",
        "    for (int i = 0; i < n; i++) {\n",
        "        if (arr[i] == x) {\n",
        "            printf(\"Element %d found at index %d\\n\", x, i);\n",
        "            found = 1;\n",
        "            break;\n",
        "        }\n",
        "    }\n",
        "\n",
        "    if (!found) {\n",
        "        printf(\"Element %d not found in the array\\n\", x);\n",
        "    }\n",
        "\n",
        "    return 0;\n",
        "}\n",
        "\"\"\"\n",
        "with open(\"stack_lab1.c\", \"w\") as f:\n",
        "    f.write(c_code)\n"
      ],
      "metadata": {
        "id": "KxqwMT6f8Vpr"
      },
      "execution_count": 8,
      "outputs": []
    },
    {
      "cell_type": "markdown",
      "source": [],
      "metadata": {
        "id": "JUgHI2ga5hEU"
      }
    },
    {
      "cell_type": "code",
      "source": [
        "# Compile the C program\n",
        "!gcc stack_lab1.c -o stack_lab1"
      ],
      "metadata": {
        "id": "peml3SpSzZBB",
        "colab": {
          "base_uri": "https://localhost:8080/"
        },
        "outputId": "0a94165a-6568-4b0b-f6a8-4a0405fcc3d0"
      },
      "execution_count": 9,
      "outputs": [
        {
          "output_type": "stream",
          "name": "stdout",
          "text": [
            "\u001b[01m\u001b[Kstack_lab1.c:\u001b[m\u001b[K In function ‘\u001b[01m\u001b[Kmain\u001b[m\u001b[K’:\n",
            "\u001b[01m\u001b[Kstack_lab1.c:13:20:\u001b[m\u001b[K \u001b[01;35m\u001b[Kwarning: \u001b[m\u001b[Kmissing terminating \" character\n",
            "   13 |             printf(\u001b[01;35m\u001b[K\"\u001b[m\u001b[KElement %d found at index %d\n",
            "      |                    \u001b[01;35m\u001b[K^\u001b[m\u001b[K\n",
            "\u001b[01m\u001b[Kstack_lab1.c:13:20:\u001b[m\u001b[K \u001b[01;31m\u001b[Kerror: \u001b[m\u001b[Kmissing terminating \" character\n",
            "   13 |             printf(\u001b[01;31m\u001b[K\"Element %d found at index %d\u001b[m\u001b[K\n",
            "      |                    \u001b[01;31m\u001b[K^~~~~~~~~~~~~~~~~~~~~~~~~~~~~\u001b[m\u001b[K\n",
            "\u001b[01m\u001b[Kstack_lab1.c:14:1:\u001b[m\u001b[K \u001b[01;35m\u001b[Kwarning: \u001b[m\u001b[Kmissing terminating \" character\n",
            "   14 | \u001b[01;35m\u001b[K\"\u001b[m\u001b[K, x, i);\n",
            "      | \u001b[01;35m\u001b[K^\u001b[m\u001b[K\n",
            "\u001b[01m\u001b[Kstack_lab1.c:14:1:\u001b[m\u001b[K \u001b[01;31m\u001b[Kerror: \u001b[m\u001b[Kmissing terminating \" character\n",
            "   14 | \u001b[01;31m\u001b[K\", x, i);\u001b[m\u001b[K\n",
            "      | \u001b[01;31m\u001b[K^~~~~~~~~\u001b[m\u001b[K\n",
            "\u001b[01m\u001b[Kstack_lab1.c:15:22:\u001b[m\u001b[K \u001b[01;31m\u001b[Kerror: \u001b[m\u001b[Kexpected ‘\u001b[01m\u001b[K)\u001b[m\u001b[K’ before ‘\u001b[01m\u001b[K;\u001b[m\u001b[K’ token\n",
            "   15 |             found = 1\u001b[01;31m\u001b[K;\u001b[m\u001b[K\n",
            "      |                      \u001b[01;31m\u001b[K^\u001b[m\u001b[K\n",
            "      |                      \u001b[32m\u001b[K)\u001b[m\u001b[K\n",
            "\u001b[01m\u001b[Kstack_lab1.c:13:19:\u001b[m\u001b[K \u001b[01;36m\u001b[Knote: \u001b[m\u001b[Kto match this ‘\u001b[01m\u001b[K(\u001b[m\u001b[K’\n",
            "   13 |             printf\u001b[01;36m\u001b[K(\u001b[m\u001b[K\"Element %d found at index %d\n",
            "      |                   \u001b[01;36m\u001b[K^\u001b[m\u001b[K\n",
            "\u001b[01m\u001b[Kstack_lab1.c:15:19:\u001b[m\u001b[K \u001b[01;35m\u001b[Kwarning: \u001b[m\u001b[Kpassing argument 1 of ‘\u001b[01m\u001b[Kprintf\u001b[m\u001b[K’ makes pointer from integer without a cast [\u001b[01;35m\u001b[K\u001b]8;;https://gcc.gnu.org/onlinedocs/gcc/Warning-Options.html#index-Wint-conversion\u0007-Wint-conversion\u001b]8;;\u0007\u001b[m\u001b[K]\n",
            "   15 |             \u001b[01;35m\u001b[Kfound = 1\u001b[m\u001b[K;\n",
            "      |             \u001b[01;35m\u001b[K~~~~~~^~~\u001b[m\u001b[K\n",
            "      |                   \u001b[01;35m\u001b[K|\u001b[m\u001b[K\n",
            "      |                   \u001b[01;35m\u001b[Kint\u001b[m\u001b[K\n",
            "In file included from \u001b[01m\u001b[Kstack_lab1.c:3\u001b[m\u001b[K:\n",
            "\u001b[01m\u001b[K/usr/include/stdio.h:356:43:\u001b[m\u001b[K \u001b[01;36m\u001b[Knote: \u001b[m\u001b[Kexpected ‘\u001b[01m\u001b[Kconst char * restrict\u001b[m\u001b[K’ but argument is of type ‘\u001b[01m\u001b[Kint\u001b[m\u001b[K’\n",
            "  356 | extern int printf (\u001b[01;36m\u001b[Kconst char *__restrict __format\u001b[m\u001b[K, ...);\n",
            "      |                    \u001b[01;36m\u001b[K~~~~~~~~~~~~~~~~~~~~~~~^~~~~~~~\u001b[m\u001b[K\n",
            "\u001b[01m\u001b[Kstack_lab1.c:17:9:\u001b[m\u001b[K \u001b[01;35m\u001b[Kwarning: \u001b[m\u001b[Kformat not a string literal and no format arguments [\u001b[01;35m\u001b[K\u001b]8;;https://gcc.gnu.org/onlinedocs/gcc/Warning-Options.html#index-Wformat-security\u0007-Wformat-security\u001b]8;;\u0007\u001b[m\u001b[K]\n",
            "   17 |         \u001b[01;35m\u001b[K}\u001b[m\u001b[K\n",
            "      |         \u001b[01;35m\u001b[K^\u001b[m\u001b[K\n",
            "\u001b[01m\u001b[Kstack_lab1.c:16:19:\u001b[m\u001b[K \u001b[01;31m\u001b[Kerror: \u001b[m\u001b[Kexpected ‘\u001b[01m\u001b[K;\u001b[m\u001b[K’ before ‘\u001b[01m\u001b[K}\u001b[m\u001b[K’ token\n",
            "   16 |             break;\n",
            "      |                   \u001b[01;31m\u001b[K^\u001b[m\u001b[K\n",
            "      |                   \u001b[32m\u001b[K;\u001b[m\u001b[K\n",
            "   17 |         \u001b[32m\u001b[K}\u001b[m\u001b[K\n",
            "      |         \u001b[32m\u001b[K~\u001b[m\u001b[K          \n",
            "\u001b[01m\u001b[Kstack_lab1.c:21:16:\u001b[m\u001b[K \u001b[01;35m\u001b[Kwarning: \u001b[m\u001b[Kmissing terminating \" character\n",
            "   21 |         printf(\u001b[01;35m\u001b[K\"\u001b[m\u001b[KElement %d not found in the array\n",
            "      |                \u001b[01;35m\u001b[K^\u001b[m\u001b[K\n",
            "\u001b[01m\u001b[Kstack_lab1.c:21:16:\u001b[m\u001b[K \u001b[01;31m\u001b[Kerror: \u001b[m\u001b[Kmissing terminating \" character\n",
            "   21 |         printf(\u001b[01;31m\u001b[K\"Element %d not found in the array\u001b[m\u001b[K\n",
            "      |                \u001b[01;31m\u001b[K^~~~~~~~~~~~~~~~~~~~~~~~~~~~~~~~~~\u001b[m\u001b[K\n",
            "\u001b[01m\u001b[Kstack_lab1.c:22:1:\u001b[m\u001b[K \u001b[01;35m\u001b[Kwarning: \u001b[m\u001b[Kmissing terminating \" character\n",
            "   22 | \u001b[01;35m\u001b[K\"\u001b[m\u001b[K, x);\n",
            "      | \u001b[01;35m\u001b[K^\u001b[m\u001b[K\n",
            "\u001b[01m\u001b[Kstack_lab1.c:22:1:\u001b[m\u001b[K \u001b[01;31m\u001b[Kerror: \u001b[m\u001b[Kmissing terminating \" character\n",
            "   22 | \u001b[01;31m\u001b[K\", x);\u001b[m\u001b[K\n",
            "      | \u001b[01;31m\u001b[K^~~~~~\u001b[m\u001b[K\n",
            "\u001b[01m\u001b[Kstack_lab1.c:23:5:\u001b[m\u001b[K \u001b[01;31m\u001b[Kerror: \u001b[m\u001b[Kexpected expression before ‘\u001b[01m\u001b[K}\u001b[m\u001b[K’ token\n",
            "   23 |     \u001b[01;31m\u001b[K}\u001b[m\u001b[K\n",
            "      |     \u001b[01;31m\u001b[K^\u001b[m\u001b[K\n",
            "\u001b[01m\u001b[Kstack_lab1.c:21:16:\u001b[m\u001b[K \u001b[01;31m\u001b[Kerror: \u001b[m\u001b[Kexpected ‘\u001b[01m\u001b[K;\u001b[m\u001b[K’ before ‘\u001b[01m\u001b[K}\u001b[m\u001b[K’ token\n",
            "   21 |         printf(\u001b[01;31m\u001b[K\"\u001b[m\u001b[KElement %d not found in the array\n",
            "      |                \u001b[01;31m\u001b[K^\u001b[m\u001b[K\n",
            "      |                \u001b[32m\u001b[K;\u001b[m\u001b[K\n",
            "   22 | \", x);\n",
            "   23 |     \u001b[32m\u001b[K}\u001b[m\u001b[K\n",
            "      |     \u001b[32m\u001b[K~\u001b[m\u001b[K           \n"
          ]
        }
      ]
    },
    {
      "cell_type": "markdown",
      "source": [],
      "metadata": {
        "id": "0ZHw4q665fUZ"
      }
    },
    {
      "cell_type": "code",
      "source": [
        "# Run the compiled C executable\n",
        "!./stack_lab1"
      ],
      "metadata": {
        "id": "zEWLJ5g3zcpB",
        "colab": {
          "base_uri": "https://localhost:8080/"
        },
        "outputId": "5724acf4-3229-4761-bc20-990768ff5c5c"
      },
      "execution_count": 10,
      "outputs": [
        {
          "output_type": "stream",
          "name": "stdout",
          "text": [
            "/bin/bash: line 1: ./stack_lab1: No such file or directory\n"
          ]
        }
      ]
    },
    {
      "cell_type": "markdown",
      "source": [],
      "metadata": {
        "id": "R_84iiVs0AXn"
      }
    }
  ]
}